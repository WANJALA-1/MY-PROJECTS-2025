{
 "cells": [
  {
   "cell_type": "code",
   "execution_count": null,
   "id": "2db1d40a91bf67c3",
   "metadata": {
    "ExecuteTime": {
     "end_time": "2025-06-24T18:46:00.064466Z",
     "start_time": "2025-06-24T18:45:53.690941Z"
    }
   },
   "outputs": [],
   "source": [
    "!pip install duckdb --quiet\n"
   ]
  },
  {
   "cell_type": "code",
   "execution_count": null,
   "id": "6cdf1610f8ce53f6",
   "metadata": {
    "ExecuteTime": {
     "end_time": "2025-06-24T18:46:00.170780Z",
     "start_time": "2025-06-24T18:46:00.114222Z"
    }
   },
   "outputs": [],
   "source": [
    "import duckdb\n"
   ]
  },
  {
   "cell_type": "code",
   "execution_count": 31,
   "id": "bdaf42b2accffa3a",
   "metadata": {
    "ExecuteTime": {
     "end_time": "2025-06-24T18:46:00.534387Z",
     "start_time": "2025-06-24T18:46:00.207468Z"
    }
   },
   "outputs": [],
   "source": [
    "con = duckdb.connect()\n"
   ]
  },
  {
   "cell_type": "code",
   "execution_count": 32,
   "id": "eb0267aaad110109",
   "metadata": {
    "ExecuteTime": {
     "end_time": "2025-06-24T18:46:00.684735Z",
     "start_time": "2025-06-24T18:46:00.641278Z"
    }
   },
   "outputs": [
    {
     "data": {
      "text/plain": [
       "<duckdb.duckdb.DuckDBPyConnection at 0x20b71e65eb0>"
      ]
     },
     "execution_count": 32,
     "metadata": {},
     "output_type": "execute_result"
    }
   ],
   "source": [
    "# Create students table\n",
    "con.execute(\"\"\"\n",
    "    CREATE TABLE students (\n",
    "        student_id INT PRIMARY KEY,\n",
    "        name VARCHAR,\n",
    "        age INT,\n",
    "        gender CHAR(1),\n",
    "        enrollment_date DATE,\n",
    "        program VARCHAR\n",
    "    );\n",
    "\"\"\")"
   ]
  },
  {
   "cell_type": "code",
   "execution_count": 33,
   "id": "1d598b550f4588b3",
   "metadata": {
    "ExecuteTime": {
     "end_time": "2025-06-24T18:46:00.967021Z",
     "start_time": "2025-06-24T18:46:00.765387Z"
    }
   },
   "outputs": [
    {
     "data": {
      "text/plain": [
       "<duckdb.duckdb.DuckDBPyConnection at 0x20b71e65eb0>"
      ]
     },
     "execution_count": 33,
     "metadata": {},
     "output_type": "execute_result"
    }
   ],
   "source": [
    "con.execute(\"\"\"\n",
    "    INSERT INTO students VALUES\n",
    "    (1, 'Alice Mwangi', 22, 'F', '2023-08-01', 'Computer Science'),\n",
    "    (2, 'Brian Otieno', 24, 'M', '2022-01-15', 'Data Science'),\n",
    "    (3, 'Caroline Wanjiku', 21, 'F', '2024-03-12', 'Business Administration'),\n",
    "    (4, 'Daniel Kipkoech', 23, 'M', '2023-09-30', 'Information Technology'),\n",
    "    (5, 'Eunice Auma', 20, 'F', '2024-02-05', 'Software Engineering');\n",
    "\"\"\")"
   ]
  },
  {
   "cell_type": "code",
   "execution_count": 34,
   "id": "a95c1e746a0289fd",
   "metadata": {
    "ExecuteTime": {
     "end_time": "2025-06-24T18:46:01.321167Z",
     "start_time": "2025-06-24T18:46:01.073988Z"
    }
   },
   "outputs": [
    {
     "data": {
      "text/html": [
       "<div>\n",
       "<style scoped>\n",
       "    .dataframe tbody tr th:only-of-type {\n",
       "        vertical-align: middle;\n",
       "    }\n",
       "\n",
       "    .dataframe tbody tr th {\n",
       "        vertical-align: top;\n",
       "    }\n",
       "\n",
       "    .dataframe thead th {\n",
       "        text-align: right;\n",
       "    }\n",
       "</style>\n",
       "<table border=\"1\" class=\"dataframe\">\n",
       "  <thead>\n",
       "    <tr style=\"text-align: right;\">\n",
       "      <th></th>\n",
       "      <th>student_id</th>\n",
       "      <th>name</th>\n",
       "      <th>age</th>\n",
       "      <th>gender</th>\n",
       "      <th>enrollment_date</th>\n",
       "      <th>program</th>\n",
       "    </tr>\n",
       "  </thead>\n",
       "  <tbody>\n",
       "    <tr>\n",
       "      <th>0</th>\n",
       "      <td>1</td>\n",
       "      <td>Alice Mwangi</td>\n",
       "      <td>22</td>\n",
       "      <td>F</td>\n",
       "      <td>2023-08-01</td>\n",
       "      <td>Computer Science</td>\n",
       "    </tr>\n",
       "    <tr>\n",
       "      <th>1</th>\n",
       "      <td>2</td>\n",
       "      <td>Brian Otieno</td>\n",
       "      <td>24</td>\n",
       "      <td>M</td>\n",
       "      <td>2022-01-15</td>\n",
       "      <td>Data Science</td>\n",
       "    </tr>\n",
       "    <tr>\n",
       "      <th>2</th>\n",
       "      <td>3</td>\n",
       "      <td>Caroline Wanjiku</td>\n",
       "      <td>21</td>\n",
       "      <td>F</td>\n",
       "      <td>2024-03-12</td>\n",
       "      <td>Business Administration</td>\n",
       "    </tr>\n",
       "    <tr>\n",
       "      <th>3</th>\n",
       "      <td>4</td>\n",
       "      <td>Daniel Kipkoech</td>\n",
       "      <td>23</td>\n",
       "      <td>M</td>\n",
       "      <td>2023-09-30</td>\n",
       "      <td>Information Technology</td>\n",
       "    </tr>\n",
       "    <tr>\n",
       "      <th>4</th>\n",
       "      <td>5</td>\n",
       "      <td>Eunice Auma</td>\n",
       "      <td>20</td>\n",
       "      <td>F</td>\n",
       "      <td>2024-02-05</td>\n",
       "      <td>Software Engineering</td>\n",
       "    </tr>\n",
       "  </tbody>\n",
       "</table>\n",
       "</div>"
      ],
      "text/plain": [
       "   student_id              name  age gender enrollment_date  \\\n",
       "0           1      Alice Mwangi   22      F      2023-08-01   \n",
       "1           2      Brian Otieno   24      M      2022-01-15   \n",
       "2           3  Caroline Wanjiku   21      F      2024-03-12   \n",
       "3           4   Daniel Kipkoech   23      M      2023-09-30   \n",
       "4           5       Eunice Auma   20      F      2024-02-05   \n",
       "\n",
       "                   program  \n",
       "0         Computer Science  \n",
       "1             Data Science  \n",
       "2  Business Administration  \n",
       "3   Information Technology  \n",
       "4     Software Engineering  "
      ]
     },
     "execution_count": 34,
     "metadata": {},
     "output_type": "execute_result"
    }
   ],
   "source": [
    "con.execute(\"SELECT * FROM students\").df()\n"
   ]
  },
  {
   "cell_type": "code",
   "execution_count": 35,
   "id": "3d82549cf48d1a5",
   "metadata": {
    "ExecuteTime": {
     "end_time": "2025-06-24T18:46:01.740333Z",
     "start_time": "2025-06-24T18:46:01.702069Z"
    }
   },
   "outputs": [
    {
     "data": {
      "text/html": [
       "<div>\n",
       "<style scoped>\n",
       "    .dataframe tbody tr th:only-of-type {\n",
       "        vertical-align: middle;\n",
       "    }\n",
       "\n",
       "    .dataframe tbody tr th {\n",
       "        vertical-align: top;\n",
       "    }\n",
       "\n",
       "    .dataframe thead th {\n",
       "        text-align: right;\n",
       "    }\n",
       "</style>\n",
       "<table border=\"1\" class=\"dataframe\">\n",
       "  <thead>\n",
       "    <tr style=\"text-align: right;\">\n",
       "      <th></th>\n",
       "      <th>student_id</th>\n",
       "      <th>name</th>\n",
       "      <th>age</th>\n",
       "      <th>gender</th>\n",
       "      <th>enrollment_date</th>\n",
       "      <th>program</th>\n",
       "    </tr>\n",
       "  </thead>\n",
       "  <tbody>\n",
       "    <tr>\n",
       "      <th>0</th>\n",
       "      <td>2</td>\n",
       "      <td>Brian Otieno</td>\n",
       "      <td>24</td>\n",
       "      <td>M</td>\n",
       "      <td>2022-01-15</td>\n",
       "      <td>Data Science</td>\n",
       "    </tr>\n",
       "  </tbody>\n",
       "</table>\n",
       "</div>"
      ],
      "text/plain": [
       "   student_id          name  age gender enrollment_date       program\n",
       "0           2  Brian Otieno   24      M      2022-01-15  Data Science"
      ]
     },
     "execution_count": 35,
     "metadata": {},
     "output_type": "execute_result"
    }
   ],
   "source": [
    "con.execute(\"\"\"\n",
    "    SELECT * FROM students WHERE program = 'Data Science';\n",
    "\"\"\").df()"
   ]
  },
  {
   "cell_type": "code",
   "execution_count": null,
   "id": "29757d840db5b5bd",
   "metadata": {
    "ExecuteTime": {
     "end_time": "2025-06-24T18:46:02.853913Z",
     "start_time": "2025-06-24T18:46:02.843537Z"
    }
   },
   "outputs": [],
   "source": []
  },
  {
   "cell_type": "code",
   "execution_count": 36,
   "id": "a1ac1e251d36f2bc",
   "metadata": {
    "ExecuteTime": {
     "end_time": "2025-06-24T18:46:03.914292Z",
     "start_time": "2025-06-24T18:46:03.740397Z"
    }
   },
   "outputs": [
    {
     "data": {
      "text/html": [
       "<div>\n",
       "<style scoped>\n",
       "    .dataframe tbody tr th:only-of-type {\n",
       "        vertical-align: middle;\n",
       "    }\n",
       "\n",
       "    .dataframe tbody tr th {\n",
       "        vertical-align: top;\n",
       "    }\n",
       "\n",
       "    .dataframe thead th {\n",
       "        text-align: right;\n",
       "    }\n",
       "</style>\n",
       "<table border=\"1\" class=\"dataframe\">\n",
       "  <thead>\n",
       "    <tr style=\"text-align: right;\">\n",
       "      <th></th>\n",
       "      <th>Total Students</th>\n",
       "    </tr>\n",
       "  </thead>\n",
       "  <tbody>\n",
       "    <tr>\n",
       "      <th>0</th>\n",
       "      <td>5</td>\n",
       "    </tr>\n",
       "  </tbody>\n",
       "</table>\n",
       "</div>"
      ],
      "text/plain": [
       "   Total Students\n",
       "0               5"
      ]
     },
     "execution_count": 36,
     "metadata": {},
     "output_type": "execute_result"
    }
   ],
   "source": [
    "con.execute(\"\"\"\n",
    "    SELECT COUNT(*) AS \"Total Students\" FROM students;\n",
    "\"\"\").df()"
   ]
  },
  {
   "cell_type": "code",
   "execution_count": 37,
   "id": "9f0040347fc42ffa",
   "metadata": {
    "ExecuteTime": {
     "end_time": "2025-06-24T18:46:04.330689Z",
     "start_time": "2025-06-24T18:46:04.209406Z"
    }
   },
   "outputs": [
    {
     "data": {
      "text/html": [
       "<div>\n",
       "<style scoped>\n",
       "    .dataframe tbody tr th:only-of-type {\n",
       "        vertical-align: middle;\n",
       "    }\n",
       "\n",
       "    .dataframe tbody tr th {\n",
       "        vertical-align: top;\n",
       "    }\n",
       "\n",
       "    .dataframe thead th {\n",
       "        text-align: right;\n",
       "    }\n",
       "</style>\n",
       "<table border=\"1\" class=\"dataframe\">\n",
       "  <thead>\n",
       "    <tr style=\"text-align: right;\">\n",
       "      <th></th>\n",
       "      <th>Today's Date</th>\n",
       "    </tr>\n",
       "  </thead>\n",
       "  <tbody>\n",
       "    <tr>\n",
       "      <th>0</th>\n",
       "      <td>2025-06-24</td>\n",
       "    </tr>\n",
       "  </tbody>\n",
       "</table>\n",
       "</div>"
      ],
      "text/plain": [
       "  Today's Date\n",
       "0   2025-06-24"
      ]
     },
     "execution_count": 37,
     "metadata": {},
     "output_type": "execute_result"
    }
   ],
   "source": [
    "con.execute(\"\"\"\n",
    "    SELECT CURRENT_DATE AS \"Today's Date\";\n",
    "\"\"\").df()"
   ]
  },
  {
   "cell_type": "code",
   "execution_count": 38,
   "id": "eb399d9351631ddd",
   "metadata": {
    "ExecuteTime": {
     "end_time": "2025-06-24T18:46:05.238527Z",
     "start_time": "2025-06-24T18:46:05.204822Z"
    }
   },
   "outputs": [
    {
     "data": {
      "text/html": [
       "<div>\n",
       "<style scoped>\n",
       "    .dataframe tbody tr th:only-of-type {\n",
       "        vertical-align: middle;\n",
       "    }\n",
       "\n",
       "    .dataframe tbody tr th {\n",
       "        vertical-align: top;\n",
       "    }\n",
       "\n",
       "    .dataframe thead th {\n",
       "        text-align: right;\n",
       "    }\n",
       "</style>\n",
       "<table border=\"1\" class=\"dataframe\">\n",
       "  <thead>\n",
       "    <tr style=\"text-align: right;\">\n",
       "      <th></th>\n",
       "      <th>name_uppercase</th>\n",
       "      <th>enrollment_date</th>\n",
       "    </tr>\n",
       "  </thead>\n",
       "  <tbody>\n",
       "    <tr>\n",
       "      <th>0</th>\n",
       "      <td>ALICE MWANGI</td>\n",
       "      <td>2023-08-01</td>\n",
       "    </tr>\n",
       "    <tr>\n",
       "      <th>1</th>\n",
       "      <td>BRIAN OTIENO</td>\n",
       "      <td>2022-01-15</td>\n",
       "    </tr>\n",
       "    <tr>\n",
       "      <th>2</th>\n",
       "      <td>CAROLINE WANJIKU</td>\n",
       "      <td>2024-03-12</td>\n",
       "    </tr>\n",
       "    <tr>\n",
       "      <th>3</th>\n",
       "      <td>DANIEL KIPKOECH</td>\n",
       "      <td>2023-09-30</td>\n",
       "    </tr>\n",
       "    <tr>\n",
       "      <th>4</th>\n",
       "      <td>EUNICE AUMA</td>\n",
       "      <td>2024-02-05</td>\n",
       "    </tr>\n",
       "  </tbody>\n",
       "</table>\n",
       "</div>"
      ],
      "text/plain": [
       "     name_uppercase enrollment_date\n",
       "0      ALICE MWANGI      2023-08-01\n",
       "1      BRIAN OTIENO      2022-01-15\n",
       "2  CAROLINE WANJIKU      2024-03-12\n",
       "3   DANIEL KIPKOECH      2023-09-30\n",
       "4       EUNICE AUMA      2024-02-05"
      ]
     },
     "execution_count": 38,
     "metadata": {},
     "output_type": "execute_result"
    }
   ],
   "source": [
    "con.execute(\"\"\"\n",
    "    SELECT UPPER(name) AS name_uppercase, enrollment_date FROM students;\n",
    "\"\"\").df()"
   ]
  },
  {
   "cell_type": "markdown",
   "id": "894bee51",
   "metadata": {},
   "source": []
  },
  {
   "cell_type": "code",
   "execution_count": null,
   "id": "87f2c2993fdadd4",
   "metadata": {
    "ExecuteTime": {
     "end_time": "2025-06-24T18:46:42.230558Z",
     "start_time": "2025-06-24T18:46:41.889456Z"
    }
   },
   "outputs": [
    {
     "data": {
      "text/html": [
       "<div>\n",
       "<style scoped>\n",
       "    .dataframe tbody tr th:only-of-type {\n",
       "        vertical-align: middle;\n",
       "    }\n",
       "\n",
       "    .dataframe tbody tr th {\n",
       "        vertical-align: top;\n",
       "    }\n",
       "\n",
       "    .dataframe thead th {\n",
       "        text-align: right;\n",
       "    }\n",
       "</style>\n",
       "<table border=\"1\" class=\"dataframe\">\n",
       "  <thead>\n",
       "    <tr style=\"text-align: right;\">\n",
       "      <th></th>\n",
       "      <th>program</th>\n",
       "      <th>Number of Students</th>\n",
       "    </tr>\n",
       "  </thead>\n",
       "  <tbody>\n",
       "    <tr>\n",
       "      <th>0</th>\n",
       "      <td>Business Administration</td>\n",
       "      <td>1</td>\n",
       "    </tr>\n",
       "    <tr>\n",
       "      <th>1</th>\n",
       "      <td>Computer Science</td>\n",
       "      <td>1</td>\n",
       "    </tr>\n",
       "    <tr>\n",
       "      <th>2</th>\n",
       "      <td>Software Engineering</td>\n",
       "      <td>1</td>\n",
       "    </tr>\n",
       "    <tr>\n",
       "      <th>3</th>\n",
       "      <td>Data Science</td>\n",
       "      <td>1</td>\n",
       "    </tr>\n",
       "    <tr>\n",
       "      <th>4</th>\n",
       "      <td>Information Technology</td>\n",
       "      <td>1</td>\n",
       "    </tr>\n",
       "  </tbody>\n",
       "</table>\n",
       "</div>"
      ],
      "text/plain": [
       "                   program  Number of Students\n",
       "0  Business Administration                   1\n",
       "1         Computer Science                   1\n",
       "2     Software Engineering                   1\n",
       "3             Data Science                   1\n",
       "4   Information Technology                   1"
      ]
     },
     "execution_count": 39,
     "metadata": {},
     "output_type": "execute_result"
    }
   ],
   "source": [
    "con.execute(\"\"\"\n",
    "    SELECT program, COUNT(*) AS \"Number of Students\"\n",
    "    FROM students\n",
    "    GROUP BY program\n",
    "    ORDER BY \"Number of Students\" DESC;\n",
    "\"\"\").df()"
   ]
  },
  {
   "cell_type": "code",
   "execution_count": null,
   "id": "2f3d5d9f7b6fbe27",
   "metadata": {
    "ExecuteTime": {
     "end_time": "2025-06-24T18:46:43.994695Z",
     "start_time": "2025-06-24T18:46:43.867702Z"
    }
   },
   "outputs": [
    {
     "data": {
      "text/html": [
       "<div>\n",
       "<style scoped>\n",
       "    .dataframe tbody tr th:only-of-type {\n",
       "        vertical-align: middle;\n",
       "    }\n",
       "\n",
       "    .dataframe tbody tr th {\n",
       "        vertical-align: top;\n",
       "    }\n",
       "\n",
       "    .dataframe thead th {\n",
       "        text-align: right;\n",
       "    }\n",
       "</style>\n",
       "<table border=\"1\" class=\"dataframe\">\n",
       "  <thead>\n",
       "    <tr style=\"text-align: right;\">\n",
       "      <th></th>\n",
       "      <th>name</th>\n",
       "      <th>age</th>\n",
       "    </tr>\n",
       "  </thead>\n",
       "  <tbody>\n",
       "    <tr>\n",
       "      <th>0</th>\n",
       "      <td>Eunice Auma</td>\n",
       "      <td>20</td>\n",
       "    </tr>\n",
       "  </tbody>\n",
       "</table>\n",
       "</div>"
      ],
      "text/plain": [
       "          name  age\n",
       "0  Eunice Auma   20"
      ]
     },
     "execution_count": 40,
     "metadata": {},
     "output_type": "execute_result"
    }
   ],
   "source": [
    "con.execute(\"\"\"\n",
    "    SELECT name, age FROM students\n",
    "    WHERE age = (SELECT MIN(age) FROM students);\n",
    "\"\"\").df()"
   ]
  },
  {
   "cell_type": "code",
   "execution_count": null,
   "id": "32398aca6ca6e01e",
   "metadata": {
    "ExecuteTime": {
     "end_time": "2025-06-24T18:46:44.586941Z",
     "start_time": "2025-06-24T18:46:44.574192Z"
    }
   },
   "outputs": [],
   "source": []
  }
 ],
 "metadata": {
  "kernelspec": {
   "display_name": "Python 3",
   "language": "python",
   "name": "python3"
  },
  "language_info": {
   "codemirror_mode": {
    "name": "ipython",
    "version": 2
   },
   "file_extension": ".py",
   "mimetype": "text/x-python",
   "name": "python",
   "nbconvert_exporter": "python",
   "pygments_lexer": "ipython2",
   "version": "2.7.6"
  }
 },
 "nbformat": 4,
 "nbformat_minor": 5
}
